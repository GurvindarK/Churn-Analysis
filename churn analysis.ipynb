{
 "cells": [
  {
   "cell_type": "markdown",
   "id": "5f273b0d-24cc-4b94-b403-7ab1ac22fad5",
   "metadata": {},
   "source": [
    "# Project name:: Churn Analysis\n",
    "## Contribution:: Individual\n",
    "## Member:: Gurvindar Kaur\n"
   ]
  },
  {
   "cell_type": "code",
   "execution_count": 4,
   "id": "48f31ed1-3014-40d5-937c-7349beb0fa23",
   "metadata": {},
   "outputs": [],
   "source": [
    "import pandas as pd\n",
    "import numpy as np\n",
    "import matplotlib.pyplot as plt\n",
    "import seaborn as sns\n",
    "from sklearn.model_selection import cross_val_score, train_test_split\n",
    "from sklearn.linear_model import LinearRegression\n",
    "from sklearn.ensemble import RandomForestRegressor, GradientBoostingRegressor\n",
    "from sklearn.metrics import mean_squared_error\n",
    "from sklearn.preprocessing import StandardScaler\n",
    "import warnings\n",
    "warnings.filterwarnings('ignore')"
   ]
  },
  {
   "cell_type": "code",
   "execution_count": 5,
   "id": "8ddb7008-12f2-4569-ace2-6baebe58b6d8",
   "metadata": {},
   "outputs": [],
   "source": [
    "df=pd.read_excel(\"Desktop//Data Science//churn.xlsx\")"
   ]
  },
  {
   "cell_type": "code",
   "execution_count": 6,
   "id": "545eae75-1e36-464b-8a54-4454ac0b6d49",
   "metadata": {},
   "outputs": [
    {
     "data": {
      "text/html": [
       "<div>\n",
       "<style scoped>\n",
       "    .dataframe tbody tr th:only-of-type {\n",
       "        vertical-align: middle;\n",
       "    }\n",
       "\n",
       "    .dataframe tbody tr th {\n",
       "        vertical-align: top;\n",
       "    }\n",
       "\n",
       "    .dataframe thead th {\n",
       "        text-align: right;\n",
       "    }\n",
       "</style>\n",
       "<table border=\"1\" class=\"dataframe\">\n",
       "  <thead>\n",
       "    <tr style=\"text-align: right;\">\n",
       "      <th></th>\n",
       "      <th>CustomerID</th>\n",
       "      <th>Count</th>\n",
       "      <th>Country</th>\n",
       "      <th>State</th>\n",
       "      <th>City</th>\n",
       "      <th>Zip Code</th>\n",
       "      <th>Lat Long</th>\n",
       "      <th>Latitude</th>\n",
       "      <th>Longitude</th>\n",
       "      <th>Gender</th>\n",
       "      <th>...</th>\n",
       "      <th>Contract</th>\n",
       "      <th>Paperless Billing</th>\n",
       "      <th>Payment Method</th>\n",
       "      <th>Monthly Charges</th>\n",
       "      <th>Total Charges</th>\n",
       "      <th>Churn Label</th>\n",
       "      <th>Churn Value</th>\n",
       "      <th>Churn Score</th>\n",
       "      <th>CLTV</th>\n",
       "      <th>Churn Reason</th>\n",
       "    </tr>\n",
       "  </thead>\n",
       "  <tbody>\n",
       "    <tr>\n",
       "      <th>0</th>\n",
       "      <td>3668-QPYBK</td>\n",
       "      <td>1</td>\n",
       "      <td>United States</td>\n",
       "      <td>California</td>\n",
       "      <td>Los Angeles</td>\n",
       "      <td>90003</td>\n",
       "      <td>33.964131, -118.272783</td>\n",
       "      <td>33.964131</td>\n",
       "      <td>-118.272783</td>\n",
       "      <td>Male</td>\n",
       "      <td>...</td>\n",
       "      <td>Month-to-month</td>\n",
       "      <td>Yes</td>\n",
       "      <td>Mailed check</td>\n",
       "      <td>53.85</td>\n",
       "      <td>108.15</td>\n",
       "      <td>Yes</td>\n",
       "      <td>1</td>\n",
       "      <td>86</td>\n",
       "      <td>3239</td>\n",
       "      <td>Competitor made better offer</td>\n",
       "    </tr>\n",
       "    <tr>\n",
       "      <th>1</th>\n",
       "      <td>9237-HQITU</td>\n",
       "      <td>1</td>\n",
       "      <td>United States</td>\n",
       "      <td>California</td>\n",
       "      <td>Los Angeles</td>\n",
       "      <td>90005</td>\n",
       "      <td>34.059281, -118.30742</td>\n",
       "      <td>34.059281</td>\n",
       "      <td>-118.307420</td>\n",
       "      <td>Female</td>\n",
       "      <td>...</td>\n",
       "      <td>Month-to-month</td>\n",
       "      <td>Yes</td>\n",
       "      <td>Electronic check</td>\n",
       "      <td>70.70</td>\n",
       "      <td>151.65</td>\n",
       "      <td>Yes</td>\n",
       "      <td>1</td>\n",
       "      <td>67</td>\n",
       "      <td>2701</td>\n",
       "      <td>Moved</td>\n",
       "    </tr>\n",
       "    <tr>\n",
       "      <th>2</th>\n",
       "      <td>9305-CDSKC</td>\n",
       "      <td>1</td>\n",
       "      <td>United States</td>\n",
       "      <td>California</td>\n",
       "      <td>Los Angeles</td>\n",
       "      <td>90006</td>\n",
       "      <td>34.048013, -118.293953</td>\n",
       "      <td>34.048013</td>\n",
       "      <td>-118.293953</td>\n",
       "      <td>Female</td>\n",
       "      <td>...</td>\n",
       "      <td>Month-to-month</td>\n",
       "      <td>Yes</td>\n",
       "      <td>Electronic check</td>\n",
       "      <td>99.65</td>\n",
       "      <td>820.5</td>\n",
       "      <td>Yes</td>\n",
       "      <td>1</td>\n",
       "      <td>86</td>\n",
       "      <td>5372</td>\n",
       "      <td>Moved</td>\n",
       "    </tr>\n",
       "    <tr>\n",
       "      <th>3</th>\n",
       "      <td>7892-POOKP</td>\n",
       "      <td>1</td>\n",
       "      <td>United States</td>\n",
       "      <td>California</td>\n",
       "      <td>Los Angeles</td>\n",
       "      <td>90010</td>\n",
       "      <td>34.062125, -118.315709</td>\n",
       "      <td>34.062125</td>\n",
       "      <td>-118.315709</td>\n",
       "      <td>Female</td>\n",
       "      <td>...</td>\n",
       "      <td>Month-to-month</td>\n",
       "      <td>Yes</td>\n",
       "      <td>Electronic check</td>\n",
       "      <td>104.80</td>\n",
       "      <td>3046.05</td>\n",
       "      <td>Yes</td>\n",
       "      <td>1</td>\n",
       "      <td>84</td>\n",
       "      <td>5003</td>\n",
       "      <td>Moved</td>\n",
       "    </tr>\n",
       "    <tr>\n",
       "      <th>4</th>\n",
       "      <td>0280-XJGEX</td>\n",
       "      <td>1</td>\n",
       "      <td>United States</td>\n",
       "      <td>California</td>\n",
       "      <td>Los Angeles</td>\n",
       "      <td>90015</td>\n",
       "      <td>34.039224, -118.266293</td>\n",
       "      <td>34.039224</td>\n",
       "      <td>-118.266293</td>\n",
       "      <td>Male</td>\n",
       "      <td>...</td>\n",
       "      <td>Month-to-month</td>\n",
       "      <td>Yes</td>\n",
       "      <td>Bank transfer (automatic)</td>\n",
       "      <td>103.70</td>\n",
       "      <td>5036.3</td>\n",
       "      <td>Yes</td>\n",
       "      <td>1</td>\n",
       "      <td>89</td>\n",
       "      <td>5340</td>\n",
       "      <td>Competitor had better devices</td>\n",
       "    </tr>\n",
       "    <tr>\n",
       "      <th>...</th>\n",
       "      <td>...</td>\n",
       "      <td>...</td>\n",
       "      <td>...</td>\n",
       "      <td>...</td>\n",
       "      <td>...</td>\n",
       "      <td>...</td>\n",
       "      <td>...</td>\n",
       "      <td>...</td>\n",
       "      <td>...</td>\n",
       "      <td>...</td>\n",
       "      <td>...</td>\n",
       "      <td>...</td>\n",
       "      <td>...</td>\n",
       "      <td>...</td>\n",
       "      <td>...</td>\n",
       "      <td>...</td>\n",
       "      <td>...</td>\n",
       "      <td>...</td>\n",
       "      <td>...</td>\n",
       "      <td>...</td>\n",
       "      <td>...</td>\n",
       "    </tr>\n",
       "    <tr>\n",
       "      <th>7038</th>\n",
       "      <td>2569-WGERO</td>\n",
       "      <td>1</td>\n",
       "      <td>United States</td>\n",
       "      <td>California</td>\n",
       "      <td>Landers</td>\n",
       "      <td>92285</td>\n",
       "      <td>34.341737, -116.539416</td>\n",
       "      <td>34.341737</td>\n",
       "      <td>-116.539416</td>\n",
       "      <td>Female</td>\n",
       "      <td>...</td>\n",
       "      <td>Two year</td>\n",
       "      <td>Yes</td>\n",
       "      <td>Bank transfer (automatic)</td>\n",
       "      <td>21.15</td>\n",
       "      <td>1419.4</td>\n",
       "      <td>No</td>\n",
       "      <td>0</td>\n",
       "      <td>45</td>\n",
       "      <td>5306</td>\n",
       "      <td>NaN</td>\n",
       "    </tr>\n",
       "    <tr>\n",
       "      <th>7039</th>\n",
       "      <td>6840-RESVB</td>\n",
       "      <td>1</td>\n",
       "      <td>United States</td>\n",
       "      <td>California</td>\n",
       "      <td>Adelanto</td>\n",
       "      <td>92301</td>\n",
       "      <td>34.667815, -117.536183</td>\n",
       "      <td>34.667815</td>\n",
       "      <td>-117.536183</td>\n",
       "      <td>Male</td>\n",
       "      <td>...</td>\n",
       "      <td>One year</td>\n",
       "      <td>Yes</td>\n",
       "      <td>Mailed check</td>\n",
       "      <td>84.80</td>\n",
       "      <td>1990.5</td>\n",
       "      <td>No</td>\n",
       "      <td>0</td>\n",
       "      <td>59</td>\n",
       "      <td>2140</td>\n",
       "      <td>NaN</td>\n",
       "    </tr>\n",
       "    <tr>\n",
       "      <th>7040</th>\n",
       "      <td>2234-XADUH</td>\n",
       "      <td>1</td>\n",
       "      <td>United States</td>\n",
       "      <td>California</td>\n",
       "      <td>Amboy</td>\n",
       "      <td>92304</td>\n",
       "      <td>34.559882, -115.637164</td>\n",
       "      <td>34.559882</td>\n",
       "      <td>-115.637164</td>\n",
       "      <td>Female</td>\n",
       "      <td>...</td>\n",
       "      <td>One year</td>\n",
       "      <td>Yes</td>\n",
       "      <td>Credit card (automatic)</td>\n",
       "      <td>103.20</td>\n",
       "      <td>7362.9</td>\n",
       "      <td>No</td>\n",
       "      <td>0</td>\n",
       "      <td>71</td>\n",
       "      <td>5560</td>\n",
       "      <td>NaN</td>\n",
       "    </tr>\n",
       "    <tr>\n",
       "      <th>7041</th>\n",
       "      <td>4801-JZAZL</td>\n",
       "      <td>1</td>\n",
       "      <td>United States</td>\n",
       "      <td>California</td>\n",
       "      <td>Angelus Oaks</td>\n",
       "      <td>92305</td>\n",
       "      <td>34.1678, -116.86433</td>\n",
       "      <td>34.167800</td>\n",
       "      <td>-116.864330</td>\n",
       "      <td>Female</td>\n",
       "      <td>...</td>\n",
       "      <td>Month-to-month</td>\n",
       "      <td>Yes</td>\n",
       "      <td>Electronic check</td>\n",
       "      <td>29.60</td>\n",
       "      <td>346.45</td>\n",
       "      <td>No</td>\n",
       "      <td>0</td>\n",
       "      <td>59</td>\n",
       "      <td>2793</td>\n",
       "      <td>NaN</td>\n",
       "    </tr>\n",
       "    <tr>\n",
       "      <th>7042</th>\n",
       "      <td>3186-AJIEK</td>\n",
       "      <td>1</td>\n",
       "      <td>United States</td>\n",
       "      <td>California</td>\n",
       "      <td>Apple Valley</td>\n",
       "      <td>92308</td>\n",
       "      <td>34.424926, -117.184503</td>\n",
       "      <td>34.424926</td>\n",
       "      <td>-117.184503</td>\n",
       "      <td>Male</td>\n",
       "      <td>...</td>\n",
       "      <td>Two year</td>\n",
       "      <td>Yes</td>\n",
       "      <td>Bank transfer (automatic)</td>\n",
       "      <td>105.65</td>\n",
       "      <td>6844.5</td>\n",
       "      <td>No</td>\n",
       "      <td>0</td>\n",
       "      <td>38</td>\n",
       "      <td>5097</td>\n",
       "      <td>NaN</td>\n",
       "    </tr>\n",
       "  </tbody>\n",
       "</table>\n",
       "<p>7043 rows × 33 columns</p>\n",
       "</div>"
      ],
      "text/plain": [
       "      CustomerID  Count        Country       State          City  Zip Code  \\\n",
       "0     3668-QPYBK      1  United States  California   Los Angeles     90003   \n",
       "1     9237-HQITU      1  United States  California   Los Angeles     90005   \n",
       "2     9305-CDSKC      1  United States  California   Los Angeles     90006   \n",
       "3     7892-POOKP      1  United States  California   Los Angeles     90010   \n",
       "4     0280-XJGEX      1  United States  California   Los Angeles     90015   \n",
       "...          ...    ...            ...         ...           ...       ...   \n",
       "7038  2569-WGERO      1  United States  California       Landers     92285   \n",
       "7039  6840-RESVB      1  United States  California      Adelanto     92301   \n",
       "7040  2234-XADUH      1  United States  California         Amboy     92304   \n",
       "7041  4801-JZAZL      1  United States  California  Angelus Oaks     92305   \n",
       "7042  3186-AJIEK      1  United States  California  Apple Valley     92308   \n",
       "\n",
       "                    Lat Long   Latitude   Longitude  Gender  ...  \\\n",
       "0     33.964131, -118.272783  33.964131 -118.272783    Male  ...   \n",
       "1      34.059281, -118.30742  34.059281 -118.307420  Female  ...   \n",
       "2     34.048013, -118.293953  34.048013 -118.293953  Female  ...   \n",
       "3     34.062125, -118.315709  34.062125 -118.315709  Female  ...   \n",
       "4     34.039224, -118.266293  34.039224 -118.266293    Male  ...   \n",
       "...                      ...        ...         ...     ...  ...   \n",
       "7038  34.341737, -116.539416  34.341737 -116.539416  Female  ...   \n",
       "7039  34.667815, -117.536183  34.667815 -117.536183    Male  ...   \n",
       "7040  34.559882, -115.637164  34.559882 -115.637164  Female  ...   \n",
       "7041     34.1678, -116.86433  34.167800 -116.864330  Female  ...   \n",
       "7042  34.424926, -117.184503  34.424926 -117.184503    Male  ...   \n",
       "\n",
       "            Contract Paperless Billing             Payment Method  \\\n",
       "0     Month-to-month               Yes               Mailed check   \n",
       "1     Month-to-month               Yes           Electronic check   \n",
       "2     Month-to-month               Yes           Electronic check   \n",
       "3     Month-to-month               Yes           Electronic check   \n",
       "4     Month-to-month               Yes  Bank transfer (automatic)   \n",
       "...              ...               ...                        ...   \n",
       "7038        Two year               Yes  Bank transfer (automatic)   \n",
       "7039        One year               Yes               Mailed check   \n",
       "7040        One year               Yes    Credit card (automatic)   \n",
       "7041  Month-to-month               Yes           Electronic check   \n",
       "7042        Two year               Yes  Bank transfer (automatic)   \n",
       "\n",
       "      Monthly Charges Total Charges Churn Label Churn Value Churn Score  CLTV  \\\n",
       "0               53.85        108.15         Yes           1          86  3239   \n",
       "1               70.70        151.65         Yes           1          67  2701   \n",
       "2               99.65         820.5         Yes           1          86  5372   \n",
       "3              104.80       3046.05         Yes           1          84  5003   \n",
       "4              103.70        5036.3         Yes           1          89  5340   \n",
       "...               ...           ...         ...         ...         ...   ...   \n",
       "7038            21.15        1419.4          No           0          45  5306   \n",
       "7039            84.80        1990.5          No           0          59  2140   \n",
       "7040           103.20        7362.9          No           0          71  5560   \n",
       "7041            29.60        346.45          No           0          59  2793   \n",
       "7042           105.65        6844.5          No           0          38  5097   \n",
       "\n",
       "                       Churn Reason  \n",
       "0      Competitor made better offer  \n",
       "1                             Moved  \n",
       "2                             Moved  \n",
       "3                             Moved  \n",
       "4     Competitor had better devices  \n",
       "...                             ...  \n",
       "7038                            NaN  \n",
       "7039                            NaN  \n",
       "7040                            NaN  \n",
       "7041                            NaN  \n",
       "7042                            NaN  \n",
       "\n",
       "[7043 rows x 33 columns]"
      ]
     },
     "execution_count": 6,
     "metadata": {},
     "output_type": "execute_result"
    }
   ],
   "source": [
    "df"
   ]
  },
  {
   "cell_type": "markdown",
   "id": "6fc7491c-821d-4b1e-99c0-6a3389a383b3",
   "metadata": {},
   "source": [
    "# Data Visualisation, to understand data"
   ]
  },
  {
   "cell_type": "code",
   "execution_count": 8,
   "id": "90b710c8-73ae-4add-88ff-90561b47b111",
   "metadata": {},
   "outputs": [
    {
     "data": {
      "image/png": "[encoded data removed]",
      "text/plain": [
       "<Figure size 800x600 with 1 Axes>"
      ]
     },
     "metadata": {},
     "output_type": "display_data"
    }
   ],
   "source": [
    "# Visualize the distribution of churn values\n",
    "plt.figure(figsize=(8, 6))\n",
    "a=sns.countplot(x='Churn Label', data=df)\n",
    "a.bar_label(a.containers[0])\n",
    "plt.title('Distribution of Churn Values')\n",
    "plt.xlabel('Churn Label')\n",
    "plt.ylabel('Count')\n",
    "plt.show()"
   ]
  },
  {
   "cell_type": "code",
   "execution_count": 9,
   "id": "f0f6f5f6-9776-4672-8ea8-097a83a7b5fb",
   "metadata": {},
   "outputs": [
    {
     "data": {
      "image/png": "[encoded data removed]",
      "text/plain": [
       "<Figure size 1000x600 with 1 Axes>"
      ]
     },
     "metadata": {},
     "output_type": "display_data"
    }
   ],
   "source": [
    "# Visualize the relationship between Monthly Charges and Churn\n",
    "plt.figure(figsize=(10, 6))\n",
    "sns.boxplot(x='Churn Label', y='Monthly Charges', data=df)\n",
    "plt.title('Monthly Charges vs Churn')\n",
    "plt.xlabel('Churn Label')\n",
    "plt.ylabel('Monthly Charges')\n",
    "plt.show()"
   ]
  },
  {
   "cell_type": "code",
   "execution_count": 10,
   "id": "24f7088c-fbf6-48e2-84f2-ca7b7c0631fa",
   "metadata": {},
   "outputs": [
    {
     "data": {
      "image/png": "[encoded data removed]",
      "text/plain": [
       "<Figure size 1000x600 with 1 Axes>"
      ]
     },
     "metadata": {},
     "output_type": "display_data"
    }
   ],
   "source": [
    "# Visualize the relationship between Tenure Months and Churn\n",
    "plt.figure(figsize=(10, 6))\n",
    "sns.barplot(x='Churn Label', y='Tenure Months', data=df)\n",
    "plt.title('Tenure Months vs Churn')\n",
    "plt.xlabel('Churn Label')\n",
    "plt.ylabel('Tenure Months')\n",
    "plt.show()"
   ]
  },
  {
   "cell_type": "code",
   "execution_count": 11,
   "id": "63a939fc-30df-4348-8451-654560814132",
   "metadata": {},
   "outputs": [
    {
     "data": {
      "image/png": "[encoded data removed]",
      "text/plain": [
       "<Figure size 1000x600 with 1 Axes>"
      ]
     },
     "metadata": {},
     "output_type": "display_data"
    }
   ],
   "source": [
    "# Visualize the relationship between Contract type and Churn\n",
    "plt.figure(figsize=(10, 6))\n",
    "sns.countplot(x='Contract', hue='Churn Label', data=df)\n",
    "plt.title('Contract Type vs Churn')\n",
    "plt.xlabel('Contract Type')\n",
    "plt.ylabel('Count')\n",
    "plt.show()"
   ]
  },
  {
   "cell_type": "code",
   "execution_count": 12,
   "id": "6da92adb-236e-4cc7-8276-78b72c76e48e",
   "metadata": {},
   "outputs": [
    {
     "data": {
      "image/png": "[encoded data removed]",
      "text/plain": [
       "<Figure size 1200x600 with 1 Axes>"
      ]
     },
     "metadata": {},
     "output_type": "display_data"
    }
   ],
   "source": [
    "# Visualize the relationship between Payment Method and Churn\n",
    "plt.figure(figsize=(12, 6))\n",
    "sns.countplot(x='Payment Method', hue='Churn Label', data=df)\n",
    "plt.title('Payment Method vs Churn')\n",
    "plt.xlabel('Payment Method')\n",
    "plt.ylabel('Count')\n",
    "plt.xticks(rotation=45)\n",
    "plt.show()"
   ]
  },
  {
   "cell_type": "markdown",
   "id": "cd5b90ec-7796-468f-9d56-7731626bc3d4",
   "metadata": {},
   "source": [
    "# Data cleaning and Transformation"
   ]
  },
  {
   "cell_type": "code",
   "execution_count": 14,
   "id": "5b6b1929-46b0-400f-a364-887c357947a2",
   "metadata": {},
   "outputs": [],
   "source": [
    "df.drop(['CustomerID',\t'Count', 'Zip Code', 'Lat Long', 'Latitude', 'Longitude', 'Paperless Billing', 'Payment Method', 'Online Security','Online Backup', 'Device Protection', 'Tech Support', 'Streaming TV', 'Streaming Movies'], axis=1, inplace=True) "
   ]
  },
  {
   "cell_type": "code",
   "execution_count": 15,
   "id": "7c645e83-0ba4-4320-bfef-f06fd2373e51",
   "metadata": {},
   "outputs": [],
   "source": [
    "# data is for only USA and state California, I am droping country, state and city as well for this reason.\n",
    "df.drop(['Country', 'State','City'], axis=1, inplace=True)"
   ]
  },
  {
   "cell_type": "code",
   "execution_count": 16,
   "id": "b7271b21-40ec-4f08-b30d-6e169f696815",
   "metadata": {},
   "outputs": [
    {
     "data": {
      "text/plain": [
       "Index(['Gender', 'Senior Citizen', 'Partner', 'Dependents', 'Tenure Months',\n",
       "       'Phone Service', 'Multiple Lines', 'Internet Service', 'Contract',\n",
       "       'Monthly Charges', 'Total Charges', 'Churn Label', 'Churn Value',\n",
       "       'Churn Score', 'CLTV', 'Churn Reason'],\n",
       "      dtype='object')"
      ]
     },
     "execution_count": 16,
     "metadata": {},
     "output_type": "execute_result"
    }
   ],
   "source": [
    "df.columns"
   ]
  },
  {
   "cell_type": "code",
   "execution_count": 17,
   "id": "7749ea57-cf08-405f-aea2-4d706cb2694b",
   "metadata": {},
   "outputs": [],
   "source": [
    "df.columns = df.columns.str.replace('Senior Citizen', 'Senior_Cit')\n",
    "df.columns = df.columns.str.replace('Tenure Months', 'Tenure_Months')\n",
    "df.columns = df.columns.str.replace('Phone Service', 'Phone_Serv')\n",
    "df.columns = df.columns.str.replace('Multiple Lines', 'Multiple_Lines')\n",
    "\n",
    "df.columns = df.columns.str.replace('Internet Service', 'Internet_Serv')\n",
    "df.columns = df.columns.str.replace('Monthly Charges','Monthly_Charges')\n",
    "df.columns = df.columns.str.replace('Total Charges','Total_Charges')\n",
    "df.columns = df.columns.str.replace('Churn Label','Churn_Label')\n",
    "\n",
    "df.columns = df.columns.str.replace('Churn Value','Churn_Value')\n",
    "df.columns = df.columns.str.replace('Churn Score','Churn_Score')\n",
    "df.columns = df.columns.str.replace('Churn Reason','Churn_Reason')\n"
   ]
  },
  {
   "cell_type": "code",
   "execution_count": 18,
   "id": "0f318617-6448-49c5-ba03-05130b2acaf5",
   "metadata": {},
   "outputs": [
    {
     "name": "stdout",
     "output_type": "stream",
     "text": [
      "<class 'pandas.core.frame.DataFrame'>\n",
      "RangeIndex: 7043 entries, 0 to 7042\n",
      "Data columns (total 16 columns):\n",
      " #   Column           Non-Null Count  Dtype  \n",
      "---  ------           --------------  -----  \n",
      " 0   Gender           7043 non-null   object \n",
      " 1   Senior_Cit       7043 non-null   object \n",
      " 2   Partner          7043 non-null   object \n",
      " 3   Dependents       7043 non-null   object \n",
      " 4   Tenure_Months    7043 non-null   int64  \n",
      " 5   Phone_Serv       7043 non-null   object \n",
      " 6   Multiple_Lines   7043 non-null   object \n",
      " 7   Internet_Serv    7043 non-null   object \n",
      " 8   Contract         7043 non-null   object \n",
      " 9   Monthly_Charges  7043 non-null   float64\n",
      " 10  Total_Charges    7043 non-null   object \n",
      " 11  Churn_Label      7043 non-null   object \n",
      " 12  Churn_Value      7043 non-null   int64  \n",
      " 13  Churn_Score      7043 non-null   int64  \n",
      " 14  CLTV             7043 non-null   int64  \n",
      " 15  Churn_Reason     1869 non-null   object \n",
      "dtypes: float64(1), int64(4), object(11)\n",
      "memory usage: 880.5+ KB\n"
     ]
    }
   ],
   "source": [
    "df.info()"
   ]
  },
  {
   "cell_type": "code",
   "execution_count": 19,
   "id": "cbfeb908-482b-43c5-98ec-b5f4a42fa2ab",
   "metadata": {},
   "outputs": [
    {
     "data": {
      "text/plain": [
       "1"
      ]
     },
     "execution_count": 19,
     "metadata": {},
     "output_type": "execute_result"
    }
   ],
   "source": [
    "df.isnull().any().sum()"
   ]
  },
  {
   "cell_type": "code",
   "execution_count": 20,
   "id": "f62abe0e-1bb4-4286-92d6-b40c8bfae5e7",
   "metadata": {},
   "outputs": [
    {
     "data": {
      "text/plain": [
       "array(['Competitor made better offer', 'Moved',\n",
       "       'Competitor had better devices',\n",
       "       'Competitor offered higher download speeds',\n",
       "       'Competitor offered more data', 'Price too high',\n",
       "       'Product dissatisfaction', 'Service dissatisfaction',\n",
       "       'Lack of self-service on Website', 'Network reliability',\n",
       "       'Limited range of services',\n",
       "       'Lack of affordable download/upload speed',\n",
       "       'Long distance charges', 'Extra data charges', \"Don't know\",\n",
       "       'Poor expertise of online support',\n",
       "       'Poor expertise of phone support', 'Attitude of service provider',\n",
       "       'Attitude of support person', 'Deceased', nan], dtype=object)"
      ]
     },
     "execution_count": 20,
     "metadata": {},
     "output_type": "execute_result"
    }
   ],
   "source": [
    "df['Churn_Reason'].unique()"
   ]
  },
  {
   "cell_type": "code",
   "execution_count": 21,
   "id": "e13583e8-79c5-4bc2-a6eb-d589ae240418",
   "metadata": {},
   "outputs": [],
   "source": [
    "# Churn reason divided in Competitor, Dissatisfaction, Other, and Price.\n",
    "\n",
    "for index,row in df.iterrows():\n",
    "    if row['Churn_Reason']=='Competitor made better offer':\n",
    "        df.at[index,'Churn_Reason']='Competitor'\n",
    "    elif row['Churn_Reason']=='Competitor had better devices':\n",
    "        df.at[index,'Churn_Reason']='Competitor'\n",
    "    elif row['Churn_Reason']=='Moved':\n",
    "        df.at[index,'Churn_Reason']='Other'\n",
    "    elif row['Churn_Reason']=='Competitor offered higher download speeds':\n",
    "        df.at[index,'Churn_Reason']='Competitor'\n",
    "    elif row['Churn_Reason']=='Competitor offered more data':\n",
    "        df.at[index,'Churn_Reason']='Competitor'\n",
    "    elif row['Churn_Reason']=='Price too high':\n",
    "        df.at[index,'Churn_Reason']='Price'\n",
    "    elif row['Churn_Reason']=='Product dissatisfaction':\n",
    "        df.at[index,'Churn_Reason']='Dissatisfaction'\n",
    "\n",
    "    elif row['Churn_Reason']=='Lack of self-service on Website':\n",
    "        df.at[index,'Churn_Reason']='Dissatisfaction'\n",
    "    elif row['Churn_Reason']=='Service dissatisfaction':\n",
    "        df.at[index,'Churn_Reason']='Dissatisfaction'\n",
    "    elif row['Churn_Reason']=='Limited range of services':\n",
    "        df.at[index,'Churn_Reason']='Dissatisfaction'\n",
    "    elif row['Churn_Reason']=='Network reliability':\n",
    "        df.at[index,'Churn_Reason']='Dissatisfaction'\n",
    "        \n",
    "    elif row['Churn_Reason']=='Lack of affordable download/upload speed':\n",
    "        df.at[index,'Churn_Reason']='Price'\n",
    "    elif row['Churn_Reason']=='Long distance charges':\n",
    "        df.at[index,'Churn_Reason']='Price'\n",
    "    elif row['Churn_Reason']=='Extra data charges':\n",
    "        df.at[index,'Churn_Reason']='Price'\n",
    "\n",
    "    elif row['Churn_Reason']==\"Don't know\":\n",
    "        df.at[index,'Churn_Reason']='Other'\n",
    "    elif row['Churn_Reason']=='Deceased':\n",
    "        df.at[index,'Churn_Reason']='Other'\n",
    "\n",
    "\n",
    "    elif row['Churn_Reason']=='Poor expertise of online support':\n",
    "        df.at[index,'Churn_Reason']='Dissatisfaction'\n",
    "    elif row['Churn_Reason']=='Poor expertise of phone support':\n",
    "        df.at[index,'Churn_Reason']='Dissatisfaction'\n",
    "    elif row['Churn_Reason']=='Attitude of service provider':\n",
    "        df.at[index,'Churn_Reason']='Dissatisfaction'\n",
    "    elif row['Churn_Reason']=='Attitude of support person':\n",
    "        df.at[index,'Churn_Reason']='Dissatisfaction'\n",
    "    "
   ]
  },
  {
   "cell_type": "code",
   "execution_count": 22,
   "id": "c553eb32-7dbd-40a6-901d-1c356b7bef7c",
   "metadata": {},
   "outputs": [
    {
     "data": {
      "text/plain": [
       "Churn_Reason\n",
       "Dissatisfaction    792\n",
       "Competitor         621\n",
       "Price              243\n",
       "Other              213\n",
       "Name: count, dtype: int64"
      ]
     },
     "execution_count": 22,
     "metadata": {},
     "output_type": "execute_result"
    }
   ],
   "source": [
    "df['Churn_Reason'].value_counts()"
   ]
  },
  {
   "cell_type": "code",
   "execution_count": 23,
   "id": "27656602-67e2-4769-b42d-dc32d8c866fd",
   "metadata": {},
   "outputs": [
    {
     "data": {
      "text/plain": [
       "<Axes: xlabel='Churn_Reason', ylabel='count'>"
      ]
     },
     "execution_count": 23,
     "metadata": {},
     "output_type": "execute_result"
    },
    {
     "data": {
      "image/png": "[encoded data removed]",
      "text/plain": [
       "<Figure size 640x480 with 1 Axes>"
      ]
     },
     "metadata": {},
     "output_type": "display_data"
    }
   ],
   "source": [
    "sns.countplot(data=df, x= 'Churn_Reason')"
   ]
  },
  {
   "cell_type": "code",
   "execution_count": 24,
   "id": "e432315f-2bf9-4063-a471-68b64e630da0",
   "metadata": {},
   "outputs": [
    {
     "data": {
      "text/plain": [
       "array(['Yes', 'No'], dtype=object)"
      ]
     },
     "execution_count": 24,
     "metadata": {},
     "output_type": "execute_result"
    }
   ],
   "source": [
    "df['Churn_Label'].unique()"
   ]
  },
  {
   "cell_type": "code",
   "execution_count": 25,
   "id": "a2d2d974-46f4-4500-9331-6f5e37f61a1c",
   "metadata": {},
   "outputs": [],
   "source": [
    "df['Churn_Label'].replace({'Yes':1,'No':0},inplace=True)"
   ]
  },
  {
   "cell_type": "code",
   "execution_count": 26,
   "id": "2aa324cc-68f6-44c9-b6fb-4afdbadd76ad",
   "metadata": {},
   "outputs": [
    {
     "data": {
      "text/plain": [
       "array([1, 0], dtype=int64)"
      ]
     },
     "execution_count": 26,
     "metadata": {},
     "output_type": "execute_result"
    }
   ],
   "source": [
    "df['Churn_Label'].unique()"
   ]
  },
  {
   "cell_type": "code",
   "execution_count": 27,
   "id": "313cb9f3-1492-4335-948c-6e82ce0ca40b",
   "metadata": {},
   "outputs": [
    {
     "data": {
      "text/plain": [
       "array(['Male', 'Female'], dtype=object)"
      ]
     },
     "execution_count": 27,
     "metadata": {},
     "output_type": "execute_result"
    }
   ],
   "source": [
    "df['Gender'].unique()"
   ]
  },
  {
   "cell_type": "code",
   "execution_count": 28,
   "id": "0f60547c-56d7-4562-ab75-2a313e41fef1",
   "metadata": {},
   "outputs": [],
   "source": [
    "df['Gender'].replace({'Male':1,'Female':0},inplace=True)"
   ]
  },
  {
   "cell_type": "code",
   "execution_count": 29,
   "id": "f69ecb2c-5b47-4318-beac-8244b0d35237",
   "metadata": {},
   "outputs": [],
   "source": [
    "df[\"Total_Charges\"] = pd.to_numeric(df[\"Total_Charges\"],errors='coerce')"
   ]
  },
  {
   "cell_type": "code",
   "execution_count": 30,
   "id": "1c9626bd-28be-42ee-947b-73129a513c8e",
   "metadata": {},
   "outputs": [
    {
     "data": {
      "text/plain": [
       "array(['No', 'Yes'], dtype=object)"
      ]
     },
     "execution_count": 30,
     "metadata": {},
     "output_type": "execute_result"
    }
   ],
   "source": [
    "df['Senior_Cit'].unique()\n"
   ]
  },
  {
   "cell_type": "code",
   "execution_count": 31,
   "id": "1ed70db3-2e7d-4cd8-8e1f-9b1640f0fabb",
   "metadata": {},
   "outputs": [
    {
     "data": {
      "text/plain": [
       "array(['No', 'Yes'], dtype=object)"
      ]
     },
     "execution_count": 31,
     "metadata": {},
     "output_type": "execute_result"
    }
   ],
   "source": [
    "df['Partner'].unique()"
   ]
  },
  {
   "cell_type": "code",
   "execution_count": 32,
   "id": "8831333d-7d09-46ee-b4ac-205070649cb4",
   "metadata": {},
   "outputs": [],
   "source": [
    "df['Senior_Cit'].replace({'Yes':1,'No':0},inplace=True)\n",
    "df['Partner'].replace({'Yes':1,'No':0},inplace=True)\n",
    "df['Dependents'].replace({'Yes':1,'No':0},inplace=True)\n",
    "df['Phone_Serv'].replace({'Yes':1,'No':0},inplace=True)\n",
    "\n",
    "# Multiple Lines: Indicates if the customer subscribes to multiple telephone lines with the company: Yes, No\n",
    "df['Multiple_Lines'].replace({'Yes':1,'No':0, 'No phone service':0 },inplace=True)\n",
    "df['Internet_Serv'].replace({'DSL':1, 'Fiber optic':1,'No':0 },inplace=True)"
   ]
  },
  {
   "cell_type": "markdown",
   "id": "d07da73a-2391-449a-bf34-d8deccd9e4f9",
   "metadata": {},
   "source": [
    "# Multicolinearity"
   ]
  },
  {
   "cell_type": "code",
   "execution_count": 34,
   "id": "389ac581-dbee-4853-bb23-be841beb5dc9",
   "metadata": {},
   "outputs": [
    {
     "data": {
      "text/plain": [
       "Index(['Gender', 'Senior_Cit', 'Partner', 'Dependents', 'Tenure_Months',\n",
       "       'Phone_Serv', 'Multiple_Lines', 'Internet_Serv', 'Monthly_Charges',\n",
       "       'Total_Charges', 'Churn_Label', 'Churn_Value', 'Churn_Score', 'CLTV'],\n",
       "      dtype='object')"
      ]
     },
     "execution_count": 34,
     "metadata": {},
     "output_type": "execute_result"
    }
   ],
   "source": [
    "numeric_features=df.select_dtypes(include=[np.number])\n",
    "numeric_features.columns"
   ]
  },
  {
   "cell_type": "code",
   "execution_count": 35,
   "id": "a9564fda-11e2-4b4c-a2a7-6e5ea74698ba",
   "metadata": {},
   "outputs": [
    {
     "data": {
      "text/html": [
       "<div>\n",
       "<style scoped>\n",
       "    .dataframe tbody tr th:only-of-type {\n",
       "        vertical-align: middle;\n",
       "    }\n",
       "\n",
       "    .dataframe tbody tr th {\n",
       "        vertical-align: top;\n",
       "    }\n",
       "\n",
       "    .dataframe thead th {\n",
       "        text-align: right;\n",
       "    }\n",
       "</style>\n",
       "<table border=\"1\" class=\"dataframe\">\n",
       "  <thead>\n",
       "    <tr style=\"text-align: right;\">\n",
       "      <th></th>\n",
       "      <th>Gender</th>\n",
       "      <th>Senior_Cit</th>\n",
       "      <th>Partner</th>\n",
       "      <th>Dependents</th>\n",
       "      <th>Tenure_Months</th>\n",
       "      <th>Phone_Serv</th>\n",
       "      <th>Multiple_Lines</th>\n",
       "      <th>Internet_Serv</th>\n",
       "      <th>Monthly_Charges</th>\n",
       "      <th>Total_Charges</th>\n",
       "      <th>Churn_Label</th>\n",
       "      <th>Churn_Value</th>\n",
       "      <th>Churn_Score</th>\n",
       "      <th>CLTV</th>\n",
       "    </tr>\n",
       "  </thead>\n",
       "  <tbody>\n",
       "    <tr>\n",
       "      <th>Gender</th>\n",
       "      <td>1.000000</td>\n",
       "      <td>-0.001874</td>\n",
       "      <td>-0.001808</td>\n",
       "      <td>0.005229</td>\n",
       "      <td>0.005106</td>\n",
       "      <td>-0.006488</td>\n",
       "      <td>-0.008414</td>\n",
       "      <td>-0.006026</td>\n",
       "      <td>-0.014569</td>\n",
       "      <td>0.000048</td>\n",
       "      <td>-0.008612</td>\n",
       "      <td>-0.008612</td>\n",
       "      <td>0.000311</td>\n",
       "      <td>-0.006851</td>\n",
       "    </tr>\n",
       "    <tr>\n",
       "      <th>Senior_Cit</th>\n",
       "      <td>-0.001874</td>\n",
       "      <td>1.000000</td>\n",
       "      <td>0.016479</td>\n",
       "      <td>-0.174396</td>\n",
       "      <td>0.016567</td>\n",
       "      <td>0.008576</td>\n",
       "      <td>0.142948</td>\n",
       "      <td>0.182742</td>\n",
       "      <td>0.220173</td>\n",
       "      <td>0.102411</td>\n",
       "      <td>0.150889</td>\n",
       "      <td>0.150889</td>\n",
       "      <td>0.102181</td>\n",
       "      <td>-0.003167</td>\n",
       "    </tr>\n",
       "    <tr>\n",
       "      <th>Partner</th>\n",
       "      <td>-0.001808</td>\n",
       "      <td>0.016479</td>\n",
       "      <td>1.000000</td>\n",
       "      <td>0.363430</td>\n",
       "      <td>0.379697</td>\n",
       "      <td>0.017706</td>\n",
       "      <td>0.142057</td>\n",
       "      <td>-0.000615</td>\n",
       "      <td>0.096848</td>\n",
       "      <td>0.319072</td>\n",
       "      <td>-0.150448</td>\n",
       "      <td>-0.150448</td>\n",
       "      <td>-0.111013</td>\n",
       "      <td>0.137859</td>\n",
       "    </tr>\n",
       "    <tr>\n",
       "      <th>Dependents</th>\n",
       "      <td>0.005229</td>\n",
       "      <td>-0.174396</td>\n",
       "      <td>0.363430</td>\n",
       "      <td>1.000000</td>\n",
       "      <td>0.131376</td>\n",
       "      <td>0.000625</td>\n",
       "      <td>-0.027510</td>\n",
       "      <td>-0.172110</td>\n",
       "      <td>-0.144206</td>\n",
       "      <td>0.032184</td>\n",
       "      <td>-0.248542</td>\n",
       "      <td>-0.248542</td>\n",
       "      <td>-0.174950</td>\n",
       "      <td>0.058222</td>\n",
       "    </tr>\n",
       "    <tr>\n",
       "      <th>Tenure_Months</th>\n",
       "      <td>0.005106</td>\n",
       "      <td>0.016567</td>\n",
       "      <td>0.379697</td>\n",
       "      <td>0.131376</td>\n",
       "      <td>1.000000</td>\n",
       "      <td>0.008448</td>\n",
       "      <td>0.331941</td>\n",
       "      <td>0.039062</td>\n",
       "      <td>0.247900</td>\n",
       "      <td>0.825880</td>\n",
       "      <td>-0.352229</td>\n",
       "      <td>-0.352229</td>\n",
       "      <td>-0.224987</td>\n",
       "      <td>0.396406</td>\n",
       "    </tr>\n",
       "    <tr>\n",
       "      <th>Phone_Serv</th>\n",
       "      <td>-0.006488</td>\n",
       "      <td>0.008576</td>\n",
       "      <td>0.017706</td>\n",
       "      <td>0.000625</td>\n",
       "      <td>0.008448</td>\n",
       "      <td>1.000000</td>\n",
       "      <td>0.279690</td>\n",
       "      <td>-0.172209</td>\n",
       "      <td>0.247398</td>\n",
       "      <td>0.113008</td>\n",
       "      <td>0.011942</td>\n",
       "      <td>0.011942</td>\n",
       "      <td>0.024136</td>\n",
       "      <td>0.023015</td>\n",
       "    </tr>\n",
       "    <tr>\n",
       "      <th>Multiple_Lines</th>\n",
       "      <td>-0.008414</td>\n",
       "      <td>0.142948</td>\n",
       "      <td>0.142057</td>\n",
       "      <td>-0.027510</td>\n",
       "      <td>0.331941</td>\n",
       "      <td>0.279690</td>\n",
       "      <td>1.000000</td>\n",
       "      <td>0.210564</td>\n",
       "      <td>0.490434</td>\n",
       "      <td>0.469042</td>\n",
       "      <td>0.040102</td>\n",
       "      <td>0.040102</td>\n",
       "      <td>0.043252</td>\n",
       "      <td>0.133568</td>\n",
       "    </tr>\n",
       "    <tr>\n",
       "      <th>Internet_Serv</th>\n",
       "      <td>-0.006026</td>\n",
       "      <td>0.182742</td>\n",
       "      <td>-0.000615</td>\n",
       "      <td>-0.172110</td>\n",
       "      <td>0.039062</td>\n",
       "      <td>-0.172209</td>\n",
       "      <td>0.210564</td>\n",
       "      <td>1.000000</td>\n",
       "      <td>0.763557</td>\n",
       "      <td>0.374878</td>\n",
       "      <td>0.227890</td>\n",
       "      <td>0.227890</td>\n",
       "      <td>0.145542</td>\n",
       "      <td>0.011521</td>\n",
       "    </tr>\n",
       "    <tr>\n",
       "      <th>Monthly_Charges</th>\n",
       "      <td>-0.014569</td>\n",
       "      <td>0.220173</td>\n",
       "      <td>0.096848</td>\n",
       "      <td>-0.144206</td>\n",
       "      <td>0.247900</td>\n",
       "      <td>0.247398</td>\n",
       "      <td>0.490434</td>\n",
       "      <td>0.763557</td>\n",
       "      <td>1.000000</td>\n",
       "      <td>0.651065</td>\n",
       "      <td>0.193356</td>\n",
       "      <td>0.193356</td>\n",
       "      <td>0.133754</td>\n",
       "      <td>0.098693</td>\n",
       "    </tr>\n",
       "    <tr>\n",
       "      <th>Total_Charges</th>\n",
       "      <td>0.000048</td>\n",
       "      <td>0.102411</td>\n",
       "      <td>0.319072</td>\n",
       "      <td>0.032184</td>\n",
       "      <td>0.825880</td>\n",
       "      <td>0.113008</td>\n",
       "      <td>0.469042</td>\n",
       "      <td>0.374878</td>\n",
       "      <td>0.651065</td>\n",
       "      <td>1.000000</td>\n",
       "      <td>-0.199484</td>\n",
       "      <td>-0.199484</td>\n",
       "      <td>-0.124312</td>\n",
       "      <td>0.341837</td>\n",
       "    </tr>\n",
       "    <tr>\n",
       "      <th>Churn_Label</th>\n",
       "      <td>-0.008612</td>\n",
       "      <td>0.150889</td>\n",
       "      <td>-0.150448</td>\n",
       "      <td>-0.248542</td>\n",
       "      <td>-0.352229</td>\n",
       "      <td>0.011942</td>\n",
       "      <td>0.040102</td>\n",
       "      <td>0.227890</td>\n",
       "      <td>0.193356</td>\n",
       "      <td>-0.199484</td>\n",
       "      <td>1.000000</td>\n",
       "      <td>1.000000</td>\n",
       "      <td>0.664897</td>\n",
       "      <td>-0.127463</td>\n",
       "    </tr>\n",
       "    <tr>\n",
       "      <th>Churn_Value</th>\n",
       "      <td>-0.008612</td>\n",
       "      <td>0.150889</td>\n",
       "      <td>-0.150448</td>\n",
       "      <td>-0.248542</td>\n",
       "      <td>-0.352229</td>\n",
       "      <td>0.011942</td>\n",
       "      <td>0.040102</td>\n",
       "      <td>0.227890</td>\n",
       "      <td>0.193356</td>\n",
       "      <td>-0.199484</td>\n",
       "      <td>1.000000</td>\n",
       "      <td>1.000000</td>\n",
       "      <td>0.664897</td>\n",
       "      <td>-0.127463</td>\n",
       "    </tr>\n",
       "    <tr>\n",
       "      <th>Churn_Score</th>\n",
       "      <td>0.000311</td>\n",
       "      <td>0.102181</td>\n",
       "      <td>-0.111013</td>\n",
       "      <td>-0.174950</td>\n",
       "      <td>-0.224987</td>\n",
       "      <td>0.024136</td>\n",
       "      <td>0.043252</td>\n",
       "      <td>0.145542</td>\n",
       "      <td>0.133754</td>\n",
       "      <td>-0.124312</td>\n",
       "      <td>0.664897</td>\n",
       "      <td>0.664897</td>\n",
       "      <td>1.000000</td>\n",
       "      <td>-0.079782</td>\n",
       "    </tr>\n",
       "    <tr>\n",
       "      <th>CLTV</th>\n",
       "      <td>-0.006851</td>\n",
       "      <td>-0.003167</td>\n",
       "      <td>0.137859</td>\n",
       "      <td>0.058222</td>\n",
       "      <td>0.396406</td>\n",
       "      <td>0.023015</td>\n",
       "      <td>0.133568</td>\n",
       "      <td>0.011521</td>\n",
       "      <td>0.098693</td>\n",
       "      <td>0.341837</td>\n",
       "      <td>-0.127463</td>\n",
       "      <td>-0.127463</td>\n",
       "      <td>-0.079782</td>\n",
       "      <td>1.000000</td>\n",
       "    </tr>\n",
       "  </tbody>\n",
       "</table>\n",
       "</div>"
      ],
      "text/plain": [
       "                   Gender  Senior_Cit   Partner  Dependents  Tenure_Months  \\\n",
       "Gender           1.000000   -0.001874 -0.001808    0.005229       0.005106   \n",
       "Senior_Cit      -0.001874    1.000000  0.016479   -0.174396       0.016567   \n",
       "Partner         -0.001808    0.016479  1.000000    0.363430       0.379697   \n",
       "Dependents       0.005229   -0.174396  0.363430    1.000000       0.131376   \n",
       "Tenure_Months    0.005106    0.016567  0.379697    0.131376       1.000000   \n",
       "Phone_Serv      -0.006488    0.008576  0.017706    0.000625       0.008448   \n",
       "Multiple_Lines  -0.008414    0.142948  0.142057   -0.027510       0.331941   \n",
       "Internet_Serv   -0.006026    0.182742 -0.000615   -0.172110       0.039062   \n",
       "Monthly_Charges -0.014569    0.220173  0.096848   -0.144206       0.247900   \n",
       "Total_Charges    0.000048    0.102411  0.319072    0.032184       0.825880   \n",
       "Churn_Label     -0.008612    0.150889 -0.150448   -0.248542      -0.352229   \n",
       "Churn_Value     -0.008612    0.150889 -0.150448   -0.248542      -0.352229   \n",
       "Churn_Score      0.000311    0.102181 -0.111013   -0.174950      -0.224987   \n",
       "CLTV            -0.006851   -0.003167  0.137859    0.058222       0.396406   \n",
       "\n",
       "                 Phone_Serv  Multiple_Lines  Internet_Serv  Monthly_Charges  \\\n",
       "Gender            -0.006488       -0.008414      -0.006026        -0.014569   \n",
       "Senior_Cit         0.008576        0.142948       0.182742         0.220173   \n",
       "Partner            0.017706        0.142057      -0.000615         0.096848   \n",
       "Dependents         0.000625       -0.027510      -0.172110        -0.144206   \n",
       "Tenure_Months      0.008448        0.331941       0.039062         0.247900   \n",
       "Phone_Serv         1.000000        0.279690      -0.172209         0.247398   \n",
       "Multiple_Lines     0.279690        1.000000       0.210564         0.490434   \n",
       "Internet_Serv     -0.172209        0.210564       1.000000         0.763557   \n",
       "Monthly_Charges    0.247398        0.490434       0.763557         1.000000   \n",
       "Total_Charges      0.113008        0.469042       0.374878         0.651065   \n",
       "Churn_Label        0.011942        0.040102       0.227890         0.193356   \n",
       "Churn_Value        0.011942        0.040102       0.227890         0.193356   \n",
       "Churn_Score        0.024136        0.043252       0.145542         0.133754   \n",
       "CLTV               0.023015        0.133568       0.011521         0.098693   \n",
       "\n",
       "                 Total_Charges  Churn_Label  Churn_Value  Churn_Score  \\\n",
       "Gender                0.000048    -0.008612    -0.008612     0.000311   \n",
       "Senior_Cit            0.102411     0.150889     0.150889     0.102181   \n",
       "Partner               0.319072    -0.150448    -0.150448    -0.111013   \n",
       "Dependents            0.032184    -0.248542    -0.248542    -0.174950   \n",
       "Tenure_Months         0.825880    -0.352229    -0.352229    -0.224987   \n",
       "Phone_Serv            0.113008     0.011942     0.011942     0.024136   \n",
       "Multiple_Lines        0.469042     0.040102     0.040102     0.043252   \n",
       "Internet_Serv         0.374878     0.227890     0.227890     0.145542   \n",
       "Monthly_Charges       0.651065     0.193356     0.193356     0.133754   \n",
       "Total_Charges         1.000000    -0.199484    -0.199484    -0.124312   \n",
       "Churn_Label          -0.199484     1.000000     1.000000     0.664897   \n",
       "Churn_Value          -0.199484     1.000000     1.000000     0.664897   \n",
       "Churn_Score          -0.124312     0.664897     0.664897     1.000000   \n",
       "CLTV                  0.341837    -0.127463    -0.127463    -0.079782   \n",
       "\n",
       "                     CLTV  \n",
       "Gender          -0.006851  \n",
       "Senior_Cit      -0.003167  \n",
       "Partner          0.137859  \n",
       "Dependents       0.058222  \n",
       "Tenure_Months    0.396406  \n",
       "Phone_Serv       0.023015  \n",
       "Multiple_Lines   0.133568  \n",
       "Internet_Serv    0.011521  \n",
       "Monthly_Charges  0.098693  \n",
       "Total_Charges    0.341837  \n",
       "Churn_Label     -0.127463  \n",
       "Churn_Value     -0.127463  \n",
       "Churn_Score     -0.079782  \n",
       "CLTV             1.000000  "
      ]
     },
     "execution_count": 35,
     "metadata": {},
     "output_type": "execute_result"
    }
   ],
   "source": [
    "correlation=numeric_features.corr()\n",
    "correlation"
   ]
  },
  {
   "cell_type": "code",
   "execution_count": 36,
   "id": "d06681d7-7217-4bff-a37f-0e7912b74ee9",
   "metadata": {},
   "outputs": [
    {
     "data": {
      "image/png": "[encoded data removed]",
      "text/plain": [
       "<Figure size 640x480 with 2 Axes>"
      ]
     },
     "metadata": {},
     "output_type": "display_data"
    }
   ],
   "source": [
    "\n",
    "sns.heatmap(correlation, annot=True, cmap='coolwarm',fmt='.1g', annot_kws={\"size\":6})\n",
    "plt.figsize=(20,20)\n",
    "\n",
    "plt.show()"
   ]
  },
  {
   "cell_type": "markdown",
   "id": "4a61a35e-f495-4bd0-acdb-09caadcd20e6",
   "metadata": {},
   "source": [
    "#### Tenure_Months has a strong positive correlation with Total_Charges (0.825880), indicating that longer-tenured customers tend to have higher total charges.\n",
    "#### Internet_Serv has a notable positive correlation with Monthly_Charges (0.763557), suggesting that customers with internet service tend to have higher monthly charges.\n",
    "#### Churn_Label and Churn_Value are perfectly correlated (1.000000), as expected since they represent the same concept.\n",
    "#### removing columns with high correlation can help reduce multicollinearity, which can improve the performance and interpretability of models. Multicollinearity occurs when two or more predictor variables are highly correlated, making it difficult to determine the individual effect of each variable.\n",
    "\n",
    "\n",
    "\n",
    "\n"
   ]
  },
  {
   "cell_type": "code",
   "execution_count": 38,
   "id": "a50b6c0d-3b96-4bc7-bf26-d0f2d19466a5",
   "metadata": {},
   "outputs": [],
   "source": [
    "# removing highly correlated col.\n",
    "df.drop(['Tenure_Months', 'Internet_Serv', 'Churn_Label'], axis=1, inplace= True)\n",
    "\n"
   ]
  },
  {
   "cell_type": "code",
   "execution_count": 39,
   "id": "d7088532-43a2-44ee-8acf-09412858120c",
   "metadata": {},
   "outputs": [],
   "source": [
    "#removing churn reason and churn score column\n",
    "df.drop(['Churn_Score', 'Churn_Reason'], axis=1, inplace= True)"
   ]
  },
  {
   "cell_type": "code",
   "execution_count": 40,
   "id": "6805efae-2214-433e-921d-733a0cac7a51",
   "metadata": {},
   "outputs": [
    {
     "name": "stdout",
     "output_type": "stream",
     "text": [
      "<class 'pandas.core.frame.DataFrame'>\n",
      "RangeIndex: 7043 entries, 0 to 7042\n",
      "Data columns (total 11 columns):\n",
      " #   Column           Non-Null Count  Dtype  \n",
      "---  ------           --------------  -----  \n",
      " 0   Gender           7043 non-null   int64  \n",
      " 1   Senior_Cit       7043 non-null   int64  \n",
      " 2   Partner          7043 non-null   int64  \n",
      " 3   Dependents       7043 non-null   int64  \n",
      " 4   Phone_Serv       7043 non-null   int64  \n",
      " 5   Multiple_Lines   7043 non-null   int64  \n",
      " 6   Contract         7043 non-null   object \n",
      " 7   Monthly_Charges  7043 non-null   float64\n",
      " 8   Total_Charges    7032 non-null   float64\n",
      " 9   Churn_Value      7043 non-null   int64  \n",
      " 10  CLTV             7043 non-null   int64  \n",
      "dtypes: float64(2), int64(8), object(1)\n",
      "memory usage: 605.4+ KB\n"
     ]
    }
   ],
   "source": [
    "df.info()"
   ]
  },
  {
   "cell_type": "code",
   "execution_count": 41,
   "id": "11658fd9-2a99-490e-ae64-0927ebce44a9",
   "metadata": {},
   "outputs": [
    {
     "data": {
      "text/plain": [
       "Churn_Value\n",
       "0    5174\n",
       "1    1869\n",
       "Name: count, dtype: int64"
      ]
     },
     "execution_count": 41,
     "metadata": {},
     "output_type": "execute_result"
    }
   ],
   "source": [
    "df['Churn_Value'].value_counts()"
   ]
  },
  {
   "cell_type": "code",
   "execution_count": 42,
   "id": "e6a7f296-cb8c-4b63-a474-f82ae9b2c9ce",
   "metadata": {},
   "outputs": [
    {
     "data": {
      "text/plain": [
       "0"
      ]
     },
     "execution_count": 42,
     "metadata": {},
     "output_type": "execute_result"
    }
   ],
   "source": [
    "df['Churn_Value'].isnull().any().sum()"
   ]
  },
  {
   "cell_type": "markdown",
   "id": "327672f3-b257-4bbe-a9b7-fe67100f1a58",
   "metadata": {},
   "source": [
    "# Encoding and Missing value treatment"
   ]
  },
  {
   "cell_type": "code",
   "execution_count": 44,
   "id": "d11c6fef-e39f-48a5-ba67-ee067d5f9f08",
   "metadata": {},
   "outputs": [],
   "source": [
    "from sklearn.impute import SimpleImputer\n",
    "\n",
    "imputer_num = SimpleImputer(strategy='mean')\n",
    "imputer_cat = SimpleImputer(strategy='most_frequent')\n"
   ]
  },
  {
   "cell_type": "code",
   "execution_count": 45,
   "id": "f58717f1-4275-49ab-8d98-fd75be1a4f8b",
   "metadata": {},
   "outputs": [],
   "source": [
    "df['Total_Charges']= imputer_num.fit_transform(df[['Total_Charges']])\n"
   ]
  },
  {
   "cell_type": "code",
   "execution_count": 46,
   "id": "8375d884-70cd-430a-9c0d-228c131e816e",
   "metadata": {},
   "outputs": [
    {
     "data": {
      "text/plain": [
       "Gender             0\n",
       "Senior_Cit         0\n",
       "Partner            0\n",
       "Dependents         0\n",
       "Phone_Serv         0\n",
       "Multiple_Lines     0\n",
       "Contract           0\n",
       "Monthly_Charges    0\n",
       "Total_Charges      0\n",
       "Churn_Value        0\n",
       "CLTV               0\n",
       "dtype: int64"
      ]
     },
     "execution_count": 46,
     "metadata": {},
     "output_type": "execute_result"
    }
   ],
   "source": [
    "df.isnull().sum()"
   ]
  },
  {
   "cell_type": "code",
   "execution_count": 47,
   "id": "8a2fbd87-4aae-474d-a2f2-c126275b0173",
   "metadata": {},
   "outputs": [
    {
     "data": {
      "text/plain": [
       "Index(['Contract'], dtype='object')"
      ]
     },
     "execution_count": 47,
     "metadata": {},
     "output_type": "execute_result"
    }
   ],
   "source": [
    "cat_features=df.select_dtypes(include=[object])\n",
    "cat_features.columns"
   ]
  },
  {
   "cell_type": "code",
   "execution_count": 48,
   "id": "63752898-9580-4a76-996b-bfa8af12cc35",
   "metadata": {},
   "outputs": [],
   "source": [
    "from sklearn.preprocessing import OneHotEncoder, LabelEncoder\n",
    "\n",
    "# Create instance of OneHotEncoder\n",
    "encoder = OneHotEncoder(drop='first', sparse_output = False)\n",
    "\n",
    "# Encode the categorical 'contract' feature\n",
    "\n",
    "Contract_encoded=LabelEncoder()\n",
    "df['Contract'] = Contract_encoded.fit_transform(df['Contract'])\n",
    "\n",
    "\n",
    "df=df.dropna()\n"
   ]
  },
  {
   "cell_type": "code",
   "execution_count": 49,
   "id": "4e83b76f-df7f-4f02-aefb-771550cee72c",
   "metadata": {},
   "outputs": [
    {
     "name": "stdout",
     "output_type": "stream",
     "text": [
      "{0: 'Month-to-month', 2: 'Two year', 1: 'One year'}\n"
     ]
    }
   ],
   "source": [
    "# Mapping encoded values back to original values\n",
    "encoded_Contract = df['Contract'].unique()\n",
    "decoded_Contract = Contract_encoded.inverse_transform(encoded_Contract)\n",
    "\n",
    "# Creating a dictionary for easy lookup\n",
    "Contract_mapping = dict(zip(encoded_Contract, decoded_Contract))\n",
    "\n",
    "print(Contract_mapping)"
   ]
  },
  {
   "cell_type": "markdown",
   "id": "ce73ed28-f5ac-4b6e-a501-ba0f3cf3f496",
   "metadata": {},
   "source": [
    "# Train test split"
   ]
  },
  {
   "cell_type": "code",
   "execution_count": 51,
   "id": "cf52d057-7059-46d6-87c8-4a099169445d",
   "metadata": {},
   "outputs": [],
   "source": [
    "from sklearn.model_selection import train_test_split\n",
    "# Separate features and target variable\n",
    "X = df.drop(columns=['Churn_Value'])\n",
    "y = df['Churn_Value']\n",
    "\n",
    "# Split the data into training and testing sets\n",
    "X_train, X_test, y_train, y_test = train_test_split(X, y, test_size=0.2, random_state=42)"
   ]
  },
  {
   "cell_type": "markdown",
   "id": "4ce273e2-d695-48a6-93f6-dd2c77685005",
   "metadata": {},
   "source": [
    "# Pipeline"
   ]
  },
  {
   "cell_type": "code",
   "execution_count": 53,
   "id": "e9525800-16f0-47fa-8660-1c66ef0b8c7f",
   "metadata": {},
   "outputs": [],
   "source": [
    "from sklearn.pipeline import make_pipeline\n",
    "from sklearn.model_selection import GridSearchCV\n",
    "from sklearn.preprocessing import StandardScaler\n",
    "from sklearn.linear_model import LogisticRegression\n",
    "from sklearn.tree import DecisionTreeClassifier\n",
    "from sklearn.ensemble import RandomForestClassifier\n",
    "from sklearn.metrics import accuracy_score, classification_report\n"
   ]
  },
  {
   "cell_type": "code",
   "execution_count": 54,
   "id": "d9f6e391-b950-45a4-8a80-4b848bd89e48",
   "metadata": {},
   "outputs": [],
   "source": [
    "from sklearn.pipeline import Pipeline\n",
    "\n",
    "# Define the pipelines for each classifier\n",
    "pipelines = {\n",
    "    'logistic_regression': Pipeline([\n",
    "        ('scaler', StandardScaler()),\n",
    "        ('classifier', LogisticRegression())\n",
    "    ]),\n",
    "    'decision_tree': Pipeline([\n",
    "        ('scaler', StandardScaler()),\n",
    "        ('classifier', DecisionTreeClassifier())\n",
    "    ]),\n",
    "    'random_forest': Pipeline([\n",
    "        ('scaler', StandardScaler()),\n",
    "        ('classifier', RandomForestClassifier())\n",
    "    ])\n",
    "}\n"
   ]
  },
  {
   "cell_type": "code",
   "execution_count": 55,
   "id": "b815d79d-013b-4727-bb3a-dedb4d2daf66",
   "metadata": {},
   "outputs": [],
   "source": [
    "# Define the parameter grids for each classifier\n",
    "param_grids = {\n",
    "    'logistic_regression': {\n",
    "        'classifier__C': [0.1, 1, 10],\n",
    "        'classifier__solver': ['liblinear']\n",
    "    },\n",
    "    'decision_tree': {\n",
    "        'classifier__max_depth': [None, 10, 20, 30],\n",
    "        'classifier__min_samples_split': [2, 5, 10]\n",
    "    },\n",
    "    'random_forest': {\n",
    "        'classifier__n_estimators': [50, 100, 200],\n",
    "        'classifier__max_depth': [None, 10, 20],\n",
    "        'classifier__min_samples_split': [2, 5, 10]\n",
    "    }\n",
    "}"
   ]
  },
  {
   "cell_type": "code",
   "execution_count": 56,
   "id": "1dc45e43-aa9c-4e43-9280-6b07a0ac9f22",
   "metadata": {},
   "outputs": [
    {
     "name": "stdout",
     "output_type": "stream",
     "text": [
      "Best parameters for logistic_regression: {'classifier__C': 0.1, 'classifier__solver': 'liblinear'}\n",
      "Best parameters for decision_tree: {'classifier__max_depth': 10, 'classifier__min_samples_split': 10}\n",
      "Best parameters for random_forest: {'classifier__max_depth': 10, 'classifier__min_samples_split': 2, 'classifier__n_estimators': 100}\n"
     ]
    }
   ],
   "source": [
    "# Perform grid search cross-validation for each classifier\n",
    "best_estimators = {}\n",
    "for name in pipelines.keys():\n",
    "    grid_search = GridSearchCV(pipelines[name], param_grids[name], cv=5)\n",
    "    grid_search.fit(X_train, y_train)\n",
    "    best_estimators[name] = grid_search.best_estimator_\n",
    "    print(f\"Best parameters for {name}: {grid_search.best_params_}\")\n"
   ]
  },
  {
   "cell_type": "markdown",
   "id": "8559bf5c-0e3b-48d7-b3e4-458232c6fcda",
   "metadata": {},
   "source": [
    "# Model Evaluation"
   ]
  },
  {
   "cell_type": "code",
   "execution_count": 58,
   "id": "737220ca-bcfa-45f1-8e28-7d02674c3e38",
   "metadata": {},
   "outputs": [
    {
     "name": "stdout",
     "output_type": "stream",
     "text": [
      "Accuracy of logistic_regression: 0.7899219304471257\n",
      "Classification Report for logistic_regression:\n",
      "              precision    recall  f1-score   support\n",
      "\n",
      "           0       0.83      0.89      0.86      1009\n",
      "           1       0.66      0.53      0.59       400\n",
      "\n",
      "    accuracy                           0.79      1409\n",
      "   macro avg       0.74      0.71      0.72      1409\n",
      "weighted avg       0.78      0.79      0.78      1409\n",
      "\n",
      "      True Values  Predicted Values\n",
      "185             1                 1\n",
      "2715            0                 0\n",
      "3825            0                 0\n",
      "1807            1                 1\n",
      "132             1                 0\n",
      "Accuracy of decision_tree: 0.7721788502484032\n",
      "Classification Report for decision_tree:\n",
      "              precision    recall  f1-score   support\n",
      "\n",
      "           0       0.83      0.86      0.84      1009\n",
      "           1       0.61      0.54      0.57       400\n",
      "\n",
      "    accuracy                           0.77      1409\n",
      "   macro avg       0.72      0.70      0.71      1409\n",
      "weighted avg       0.77      0.77      0.77      1409\n",
      "\n",
      "      True Values  Predicted Values\n",
      "185             1                 1\n",
      "2715            0                 0\n",
      "3825            0                 0\n",
      "1807            1                 1\n",
      "132             1                 1\n",
      "Accuracy of random_forest: 0.7998580553584103\n",
      "Classification Report for random_forest:\n",
      "              precision    recall  f1-score   support\n",
      "\n",
      "           0       0.83      0.91      0.87      1009\n",
      "           1       0.69      0.53      0.60       400\n",
      "\n",
      "    accuracy                           0.80      1409\n",
      "   macro avg       0.76      0.72      0.73      1409\n",
      "weighted avg       0.79      0.80      0.79      1409\n",
      "\n",
      "      True Values  Predicted Values\n",
      "185             1                 0\n",
      "2715            0                 0\n",
      "3825            0                 0\n",
      "1807            1                 1\n",
      "132             1                 1\n"
     ]
    }
   ],
   "source": [
    "# Evaluate the best models on the test set and generate classification reports\n",
    "best_model_name = None\n",
    "best_model_accuracy = 0\n",
    "for name, model in best_estimators.items():\n",
    "    y_pred = model.predict(X_test)\n",
    "    accuracy = accuracy_score(y_test, y_pred)\n",
    "    if accuracy > best_model_accuracy:\n",
    "        best_model_accuracy = accuracy\n",
    "        best_model_name = name\n",
    "\n",
    "    best_model = best_estimators[best_model_name]\n",
    "      \n",
    "    print(f\"Accuracy of {name}: {accuracy}\")\n",
    "    print(f\"Classification Report for {name}:\\n{classification_report(y_test, y_pred)}\")\n",
    "\n",
    "    \n",
    "    # Create a DataFrame to compare true and predicted values\n",
    "    comparison_df = pd.DataFrame({\n",
    "        'True Values': y_test,\n",
    "        'Predicted Values': y_pred\n",
    "        })\n",
    "    # Display the first few rows of true vs predicted values\n",
    "    print(comparison_df.head())\n"
   ]
  },
  {
   "cell_type": "code",
   "execution_count": 59,
   "id": "90b2af90-55f3-4453-831a-3f0451c382a2",
   "metadata": {},
   "outputs": [
    {
     "name": "stdout",
     "output_type": "stream",
     "text": [
      "The best model is random_forest with an accuracy of 0.7998580553584103\n"
     ]
    }
   ],
   "source": [
    "#best model with accuracy\n",
    "print(f\"The best model is {best_model_name} with an accuracy of {best_model_accuracy}\")"
   ]
  },
  {
   "cell_type": "markdown",
   "id": "4a879308-dc8b-4f8c-9348-de93dbb0e93f",
   "metadata": {},
   "source": [
    "# New Predictions"
   ]
  },
  {
   "cell_type": "code",
   "execution_count": 61,
   "id": "e93fab68-eeb8-494f-b942-f9726071f7ff",
   "metadata": {},
   "outputs": [],
   "source": [
    "sample_data = df.sample(n=5, random_state=42)"
   ]
  },
  {
   "cell_type": "code",
   "execution_count": 62,
   "id": "c03423a2-6a12-4b76-8589-3e483fcac37a",
   "metadata": {},
   "outputs": [
    {
     "data": {
      "text/html": [
       "<div>\n",
       "<style scoped>\n",
       "    .dataframe tbody tr th:only-of-type {\n",
       "        vertical-align: middle;\n",
       "    }\n",
       "\n",
       "    .dataframe tbody tr th {\n",
       "        vertical-align: top;\n",
       "    }\n",
       "\n",
       "    .dataframe thead th {\n",
       "        text-align: right;\n",
       "    }\n",
       "</style>\n",
       "<table border=\"1\" class=\"dataframe\">\n",
       "  <thead>\n",
       "    <tr style=\"text-align: right;\">\n",
       "      <th></th>\n",
       "      <th>Gender</th>\n",
       "      <th>Senior_Cit</th>\n",
       "      <th>Partner</th>\n",
       "      <th>Dependents</th>\n",
       "      <th>Phone_Serv</th>\n",
       "      <th>Multiple_Lines</th>\n",
       "      <th>Contract</th>\n",
       "      <th>Monthly_Charges</th>\n",
       "      <th>Total_Charges</th>\n",
       "      <th>Churn_Value</th>\n",
       "      <th>CLTV</th>\n",
       "    </tr>\n",
       "  </thead>\n",
       "  <tbody>\n",
       "    <tr>\n",
       "      <th>185</th>\n",
       "      <td>0</td>\n",
       "      <td>0</td>\n",
       "      <td>0</td>\n",
       "      <td>0</td>\n",
       "      <td>1</td>\n",
       "      <td>0</td>\n",
       "      <td>0</td>\n",
       "      <td>85.9</td>\n",
       "      <td>1269.55</td>\n",
       "      <td>1</td>\n",
       "      <td>3579</td>\n",
       "    </tr>\n",
       "    <tr>\n",
       "      <th>2715</th>\n",
       "      <td>1</td>\n",
       "      <td>0</td>\n",
       "      <td>1</td>\n",
       "      <td>0</td>\n",
       "      <td>1</td>\n",
       "      <td>1</td>\n",
       "      <td>0</td>\n",
       "      <td>56.8</td>\n",
       "      <td>1074.65</td>\n",
       "      <td>0</td>\n",
       "      <td>5558</td>\n",
       "    </tr>\n",
       "    <tr>\n",
       "      <th>3825</th>\n",
       "      <td>0</td>\n",
       "      <td>0</td>\n",
       "      <td>0</td>\n",
       "      <td>0</td>\n",
       "      <td>1</td>\n",
       "      <td>0</td>\n",
       "      <td>0</td>\n",
       "      <td>20.0</td>\n",
       "      <td>40.90</td>\n",
       "      <td>0</td>\n",
       "      <td>2237</td>\n",
       "    </tr>\n",
       "    <tr>\n",
       "      <th>1807</th>\n",
       "      <td>1</td>\n",
       "      <td>1</td>\n",
       "      <td>1</td>\n",
       "      <td>0</td>\n",
       "      <td>1</td>\n",
       "      <td>0</td>\n",
       "      <td>0</td>\n",
       "      <td>84.2</td>\n",
       "      <td>519.15</td>\n",
       "      <td>1</td>\n",
       "      <td>5834</td>\n",
       "    </tr>\n",
       "    <tr>\n",
       "      <th>132</th>\n",
       "      <td>1</td>\n",
       "      <td>0</td>\n",
       "      <td>0</td>\n",
       "      <td>0</td>\n",
       "      <td>1</td>\n",
       "      <td>1</td>\n",
       "      <td>0</td>\n",
       "      <td>104.8</td>\n",
       "      <td>4131.95</td>\n",
       "      <td>1</td>\n",
       "      <td>3492</td>\n",
       "    </tr>\n",
       "  </tbody>\n",
       "</table>\n",
       "</div>"
      ],
      "text/plain": [
       "      Gender  Senior_Cit  Partner  Dependents  Phone_Serv  Multiple_Lines  \\\n",
       "185        0           0        0           0           1               0   \n",
       "2715       1           0        1           0           1               1   \n",
       "3825       0           0        0           0           1               0   \n",
       "1807       1           1        1           0           1               0   \n",
       "132        1           0        0           0           1               1   \n",
       "\n",
       "      Contract  Monthly_Charges  Total_Charges  Churn_Value  CLTV  \n",
       "185          0             85.9        1269.55            1  3579  \n",
       "2715         0             56.8        1074.65            0  5558  \n",
       "3825         0             20.0          40.90            0  2237  \n",
       "1807         0             84.2         519.15            1  5834  \n",
       "132          0            104.8        4131.95            1  3492  "
      ]
     },
     "execution_count": 62,
     "metadata": {},
     "output_type": "execute_result"
    }
   ],
   "source": [
    "sample_data"
   ]
  },
  {
   "cell_type": "code",
   "execution_count": 63,
   "id": "e5b44888-3594-41cb-9f59-4eb576f6b2ea",
   "metadata": {},
   "outputs": [],
   "source": [
    "X_new = sample_data.drop(columns=['Churn_Value'])\n",
    "y_new = sample_data['Churn_Value']\n"
   ]
  },
  {
   "cell_type": "code",
   "execution_count": 64,
   "id": "c3618e6c-f62c-46fe-be23-a989311c07b6",
   "metadata": {},
   "outputs": [
    {
     "data": {
      "text/html": [
       "<style>#sk-container-id-1 {\n",
       "  /* Definition of color scheme common for light and dark mode */\n",
       "  --sklearn-color-text: black;\n",
       "  --sklearn-color-line: gray;\n",
       "  /* Definition of color scheme for unfitted estimators */\n",
       "  --sklearn-color-unfitted-level-0: #fff5e6;\n",
       "  --sklearn-color-unfitted-level-1: #f6e4d2;\n",
       "  --sklearn-color-unfitted-level-2: #ffe0b3;\n",
       "  --sklearn-color-unfitted-level-3: chocolate;\n",
       "  /* Definition of color scheme for fitted estimators */\n",
       "  --sklearn-color-fitted-level-0: #f0f8ff;\n",
       "  --sklearn-color-fitted-level-1: #d4ebff;\n",
       "  --sklearn-color-fitted-level-2: #b3dbfd;\n",
       "  --sklearn-color-fitted-level-3: cornflowerblue;\n",
       "\n",
       "  /* Specific color for light theme */\n",
       "  --sklearn-color-text-on-default-background: var(--sg-text-color, var(--theme-code-foreground, var(--jp-content-font-color1, black)));\n",
       "  --sklearn-color-background: var(--sg-background-color, var(--theme-background, var(--jp-layout-color0, white)));\n",
       "  --sklearn-color-border-box: var(--sg-text-color, var(--theme-code-foreground, var(--jp-content-font-color1, black)));\n",
       "  --sklearn-color-icon: #696969;\n",
       "\n",
       "  @media (prefers-color-scheme: dark) {\n",
       "    /* Redefinition of color scheme for dark theme */\n",
       "    --sklearn-color-text-on-default-background: var(--sg-text-color, var(--theme-code-foreground, var(--jp-content-font-color1, white)));\n",
       "    --sklearn-color-background: var(--sg-background-color, var(--theme-background, var(--jp-layout-color0, #111)));\n",
       "    --sklearn-color-border-box: var(--sg-text-color, var(--theme-code-foreground, var(--jp-content-font-color1, white)));\n",
       "    --sklearn-color-icon: #878787;\n",
       "  }\n",
       "}\n",
       "\n",
       "#sk-container-id-1 {\n",
       "  color: var(--sklearn-color-text);\n",
       "}\n",
       "\n",
       "#sk-container-id-1 pre {\n",
       "  padding: 0;\n",
       "}\n",
       "\n",
       "#sk-container-id-1 input.sk-hidden--visually {\n",
       "  border: 0;\n",
       "  clip: rect(1px 1px 1px 1px);\n",
       "  clip: rect(1px, 1px, 1px, 1px);\n",
       "  height: 1px;\n",
       "  margin: -1px;\n",
       "  overflow: hidden;\n",
       "  padding: 0;\n",
       "  position: absolute;\n",
       "  width: 1px;\n",
       "}\n",
       "\n",
       "#sk-container-id-1 div.sk-dashed-wrapped {\n",
       "  border: 1px dashed var(--sklearn-color-line);\n",
       "  margin: 0 0.4em 0.5em 0.4em;\n",
       "  box-sizing: border-box;\n",
       "  padding-bottom: 0.4em;\n",
       "  background-color: var(--sklearn-color-background);\n",
       "}\n",
       "\n",
       "#sk-container-id-1 div.sk-container {\n",
       "  /* jupyter's `normalize.less` sets `[hidden] { display: none; }`\n",
       "     but bootstrap.min.css set `[hidden] { display: none !important; }`\n",
       "     so we also need the `!important` here to be able to override the\n",
       "     default hidden behavior on the sphinx rendered scikit-learn.org.\n",
       "     See: https://github.com/scikit-learn/scikit-learn/issues/21755 */\n",
       "  display: inline-block !important;\n",
       "  position: relative;\n",
       "}\n",
       "\n",
       "#sk-container-id-1 div.sk-text-repr-fallback {\n",
       "  display: none;\n",
       "}\n",
       "\n",
       "div.sk-parallel-item,\n",
       "div.sk-serial,\n",
       "div.sk-item {\n",
       "  /* draw centered vertical line to link estimators */\n",
       "  background-image: linear-gradient(var(--sklearn-color-text-on-default-background), var(--sklearn-color-text-on-default-background));\n",
       "  background-size: 2px 100%;\n",
       "  background-repeat: no-repeat;\n",
       "  background-position: center center;\n",
       "}\n",
       "\n",
       "/* Parallel-specific style estimator block */\n",
       "\n",
       "#sk-container-id-1 div.sk-parallel-item::after {\n",
       "  content: \"\";\n",
       "  width: 100%;\n",
       "  border-bottom: 2px solid var(--sklearn-color-text-on-default-background);\n",
       "  flex-grow: 1;\n",
       "}\n",
       "\n",
       "#sk-container-id-1 div.sk-parallel {\n",
       "  display: flex;\n",
       "  align-items: stretch;\n",
       "  justify-content: center;\n",
       "  background-color: var(--sklearn-color-background);\n",
       "  position: relative;\n",
       "}\n",
       "\n",
       "#sk-container-id-1 div.sk-parallel-item {\n",
       "  display: flex;\n",
       "  flex-direction: column;\n",
       "}\n",
       "\n",
       "#sk-container-id-1 div.sk-parallel-item:first-child::after {\n",
       "  align-self: flex-end;\n",
       "  width: 50%;\n",
       "}\n",
       "\n",
       "#sk-container-id-1 div.sk-parallel-item:last-child::after {\n",
       "  align-self: flex-start;\n",
       "  width: 50%;\n",
       "}\n",
       "\n",
       "#sk-container-id-1 div.sk-parallel-item:only-child::after {\n",
       "  width: 0;\n",
       "}\n",
       "\n",
       "/* Serial-specific style estimator block */\n",
       "\n",
       "#sk-container-id-1 div.sk-serial {\n",
       "  display: flex;\n",
       "  flex-direction: column;\n",
       "  align-items: center;\n",
       "  background-color: var(--sklearn-color-background);\n",
       "  padding-right: 1em;\n",
       "  padding-left: 1em;\n",
       "}\n",
       "\n",
       "\n",
       "/* Toggleable style: style used for estimator/Pipeline/ColumnTransformer box that is\n",
       "clickable and can be expanded/collapsed.\n",
       "- Pipeline and ColumnTransformer use this feature and define the default style\n",
       "- Estimators will overwrite some part of the style using the `sk-estimator` class\n",
       "*/\n",
       "\n",
       "/* Pipeline and ColumnTransformer style (default) */\n",
       "\n",
       "#sk-container-id-1 div.sk-toggleable {\n",
       "  /* Default theme specific background. It is overwritten whether we have a\n",
       "  specific estimator or a Pipeline/ColumnTransformer */\n",
       "  background-color: var(--sklearn-color-background);\n",
       "}\n",
       "\n",
       "/* Toggleable label */\n",
       "#sk-container-id-1 label.sk-toggleable__label {\n",
       "  cursor: pointer;\n",
       "  display: block;\n",
       "  width: 100%;\n",
       "  margin-bottom: 0;\n",
       "  padding: 0.5em;\n",
       "  box-sizing: border-box;\n",
       "  text-align: center;\n",
       "}\n",
       "\n",
       "#sk-container-id-1 label.sk-toggleable__label-arrow:before {\n",
       "  /* Arrow on the left of the label */\n",
       "  content: \"▸\";\n",
       "  float: left;\n",
       "  margin-right: 0.25em;\n",
       "  color: var(--sklearn-color-icon);\n",
       "}\n",
       "\n",
       "#sk-container-id-1 label.sk-toggleable__label-arrow:hover:before {\n",
       "  color: var(--sklearn-color-text);\n",
       "}\n",
       "\n",
       "/* Toggleable content - dropdown */\n",
       "\n",
       "#sk-container-id-1 div.sk-toggleable__content {\n",
       "  max-height: 0;\n",
       "  max-width: 0;\n",
       "  overflow: hidden;\n",
       "  text-align: left;\n",
       "  /* unfitted */\n",
       "  background-color: var(--sklearn-color-unfitted-level-0);\n",
       "}\n",
       "\n",
       "#sk-container-id-1 div.sk-toggleable__content.fitted {\n",
       "  /* fitted */\n",
       "  background-color: var(--sklearn-color-fitted-level-0);\n",
       "}\n",
       "\n",
       "#sk-container-id-1 div.sk-toggleable__content pre {\n",
       "  margin: 0.2em;\n",
       "  border-radius: 0.25em;\n",
       "  color: var(--sklearn-color-text);\n",
       "  /* unfitted */\n",
       "  background-color: var(--sklearn-color-unfitted-level-0);\n",
       "}\n",
       "\n",
       "#sk-container-id-1 div.sk-toggleable__content.fitted pre {\n",
       "  /* unfitted */\n",
       "  background-color: var(--sklearn-color-fitted-level-0);\n",
       "}\n",
       "\n",
       "#sk-container-id-1 input.sk-toggleable__control:checked~div.sk-toggleable__content {\n",
       "  /* Expand drop-down */\n",
       "  max-height: 200px;\n",
       "  max-width: 100%;\n",
       "  overflow: auto;\n",
       "}\n",
       "\n",
       "#sk-container-id-1 input.sk-toggleable__control:checked~label.sk-toggleable__label-arrow:before {\n",
       "  content: \"▾\";\n",
       "}\n",
       "\n",
       "/* Pipeline/ColumnTransformer-specific style */\n",
       "\n",
       "#sk-container-id-1 div.sk-label input.sk-toggleable__control:checked~label.sk-toggleable__label {\n",
       "  color: var(--sklearn-color-text);\n",
       "  background-color: var(--sklearn-color-unfitted-level-2);\n",
       "}\n",
       "\n",
       "#sk-container-id-1 div.sk-label.fitted input.sk-toggleable__control:checked~label.sk-toggleable__label {\n",
       "  background-color: var(--sklearn-color-fitted-level-2);\n",
       "}\n",
       "\n",
       "/* Estimator-specific style */\n",
       "\n",
       "/* Colorize estimator box */\n",
       "#sk-container-id-1 div.sk-estimator input.sk-toggleable__control:checked~label.sk-toggleable__label {\n",
       "  /* unfitted */\n",
       "  background-color: var(--sklearn-color-unfitted-level-2);\n",
       "}\n",
       "\n",
       "#sk-container-id-1 div.sk-estimator.fitted input.sk-toggleable__control:checked~label.sk-toggleable__label {\n",
       "  /* fitted */\n",
       "  background-color: var(--sklearn-color-fitted-level-2);\n",
       "}\n",
       "\n",
       "#sk-container-id-1 div.sk-label label.sk-toggleable__label,\n",
       "#sk-container-id-1 div.sk-label label {\n",
       "  /* The background is the default theme color */\n",
       "  color: var(--sklearn-color-text-on-default-background);\n",
       "}\n",
       "\n",
       "/* On hover, darken the color of the background */\n",
       "#sk-container-id-1 div.sk-label:hover label.sk-toggleable__label {\n",
       "  color: var(--sklearn-color-text);\n",
       "  background-color: var(--sklearn-color-unfitted-level-2);\n",
       "}\n",
       "\n",
       "/* Label box, darken color on hover, fitted */\n",
       "#sk-container-id-1 div.sk-label.fitted:hover label.sk-toggleable__label.fitted {\n",
       "  color: var(--sklearn-color-text);\n",
       "  background-color: var(--sklearn-color-fitted-level-2);\n",
       "}\n",
       "\n",
       "/* Estimator label */\n",
       "\n",
       "#sk-container-id-1 div.sk-label label {\n",
       "  font-family: monospace;\n",
       "  font-weight: bold;\n",
       "  display: inline-block;\n",
       "  line-height: 1.2em;\n",
       "}\n",
       "\n",
       "#sk-container-id-1 div.sk-label-container {\n",
       "  text-align: center;\n",
       "}\n",
       "\n",
       "/* Estimator-specific */\n",
       "#sk-container-id-1 div.sk-estimator {\n",
       "  font-family: monospace;\n",
       "  border: 1px dotted var(--sklearn-color-border-box);\n",
       "  border-radius: 0.25em;\n",
       "  box-sizing: border-box;\n",
       "  margin-bottom: 0.5em;\n",
       "  /* unfitted */\n",
       "  background-color: var(--sklearn-color-unfitted-level-0);\n",
       "}\n",
       "\n",
       "#sk-container-id-1 div.sk-estimator.fitted {\n",
       "  /* fitted */\n",
       "  background-color: var(--sklearn-color-fitted-level-0);\n",
       "}\n",
       "\n",
       "/* on hover */\n",
       "#sk-container-id-1 div.sk-estimator:hover {\n",
       "  /* unfitted */\n",
       "  background-color: var(--sklearn-color-unfitted-level-2);\n",
       "}\n",
       "\n",
       "#sk-container-id-1 div.sk-estimator.fitted:hover {\n",
       "  /* fitted */\n",
       "  background-color: var(--sklearn-color-fitted-level-2);\n",
       "}\n",
       "\n",
       "/* Specification for estimator info (e.g. \"i\" and \"?\") */\n",
       "\n",
       "/* Common style for \"i\" and \"?\" */\n",
       "\n",
       ".sk-estimator-doc-link,\n",
       "a:link.sk-estimator-doc-link,\n",
       "a:visited.sk-estimator-doc-link {\n",
       "  float: right;\n",
       "  font-size: smaller;\n",
       "  line-height: 1em;\n",
       "  font-family: monospace;\n",
       "  background-color: var(--sklearn-color-background);\n",
       "  border-radius: 1em;\n",
       "  height: 1em;\n",
       "  width: 1em;\n",
       "  text-decoration: none !important;\n",
       "  margin-left: 1ex;\n",
       "  /* unfitted */\n",
       "  border: var(--sklearn-color-unfitted-level-1) 1pt solid;\n",
       "  color: var(--sklearn-color-unfitted-level-1);\n",
       "}\n",
       "\n",
       ".sk-estimator-doc-link.fitted,\n",
       "a:link.sk-estimator-doc-link.fitted,\n",
       "a:visited.sk-estimator-doc-link.fitted {\n",
       "  /* fitted */\n",
       "  border: var(--sklearn-color-fitted-level-1) 1pt solid;\n",
       "  color: var(--sklearn-color-fitted-level-1);\n",
       "}\n",
       "\n",
       "/* On hover */\n",
       "div.sk-estimator:hover .sk-estimator-doc-link:hover,\n",
       ".sk-estimator-doc-link:hover,\n",
       "div.sk-label-container:hover .sk-estimator-doc-link:hover,\n",
       ".sk-estimator-doc-link:hover {\n",
       "  /* unfitted */\n",
       "  background-color: var(--sklearn-color-unfitted-level-3);\n",
       "  color: var(--sklearn-color-background);\n",
       "  text-decoration: none;\n",
       "}\n",
       "\n",
       "div.sk-estimator.fitted:hover .sk-estimator-doc-link.fitted:hover,\n",
       ".sk-estimator-doc-link.fitted:hover,\n",
       "div.sk-label-container:hover .sk-estimator-doc-link.fitted:hover,\n",
       ".sk-estimator-doc-link.fitted:hover {\n",
       "  /* fitted */\n",
       "  background-color: var(--sklearn-color-fitted-level-3);\n",
       "  color: var(--sklearn-color-background);\n",
       "  text-decoration: none;\n",
       "}\n",
       "\n",
       "/* Span, style for the box shown on hovering the info icon */\n",
       ".sk-estimator-doc-link span {\n",
       "  display: none;\n",
       "  z-index: 9999;\n",
       "  position: relative;\n",
       "  font-weight: normal;\n",
       "  right: .2ex;\n",
       "  padding: .5ex;\n",
       "  margin: .5ex;\n",
       "  width: min-content;\n",
       "  min-width: 20ex;\n",
       "  max-width: 50ex;\n",
       "  color: var(--sklearn-color-text);\n",
       "  box-shadow: 2pt 2pt 4pt #999;\n",
       "  /* unfitted */\n",
       "  background: var(--sklearn-color-unfitted-level-0);\n",
       "  border: .5pt solid var(--sklearn-color-unfitted-level-3);\n",
       "}\n",
       "\n",
       ".sk-estimator-doc-link.fitted span {\n",
       "  /* fitted */\n",
       "  background: var(--sklearn-color-fitted-level-0);\n",
       "  border: var(--sklearn-color-fitted-level-3);\n",
       "}\n",
       "\n",
       ".sk-estimator-doc-link:hover span {\n",
       "  display: block;\n",
       "}\n",
       "\n",
       "/* \"?\"-specific style due to the `<a>` HTML tag */\n",
       "\n",
       "#sk-container-id-1 a.estimator_doc_link {\n",
       "  float: right;\n",
       "  font-size: 1rem;\n",
       "  line-height: 1em;\n",
       "  font-family: monospace;\n",
       "  background-color: var(--sklearn-color-background);\n",
       "  border-radius: 1rem;\n",
       "  height: 1rem;\n",
       "  width: 1rem;\n",
       "  text-decoration: none;\n",
       "  /* unfitted */\n",
       "  color: var(--sklearn-color-unfitted-level-1);\n",
       "  border: var(--sklearn-color-unfitted-level-1) 1pt solid;\n",
       "}\n",
       "\n",
       "#sk-container-id-1 a.estimator_doc_link.fitted {\n",
       "  /* fitted */\n",
       "  border: var(--sklearn-color-fitted-level-1) 1pt solid;\n",
       "  color: var(--sklearn-color-fitted-level-1);\n",
       "}\n",
       "\n",
       "/* On hover */\n",
       "#sk-container-id-1 a.estimator_doc_link:hover {\n",
       "  /* unfitted */\n",
       "  background-color: var(--sklearn-color-unfitted-level-3);\n",
       "  color: var(--sklearn-color-background);\n",
       "  text-decoration: none;\n",
       "}\n",
       "\n",
       "#sk-container-id-1 a.estimator_doc_link.fitted:hover {\n",
       "  /* fitted */\n",
       "  background-color: var(--sklearn-color-fitted-level-3);\n",
       "}\n",
       "</style><div id=\"sk-container-id-1\" class=\"sk-top-container\"><div class=\"sk-text-repr-fallback\"><pre>Pipeline(steps=[(&#x27;scaler&#x27;, StandardScaler()),\n",
       "                (&#x27;classifier&#x27;, RandomForestClassifier(max_depth=10))])</pre><b>In a Jupyter environment, please rerun this cell to show the HTML representation or trust the notebook. <br />On GitHub, the HTML representation is unable to render, please try loading this page with nbviewer.org.</b></div><div class=\"sk-container\" hidden><div class=\"sk-item sk-dashed-wrapped\"><div class=\"sk-label-container\"><div class=\"sk-label fitted sk-toggleable\"><input class=\"sk-toggleable__control sk-hidden--visually\" id=\"sk-estimator-id-1\" type=\"checkbox\" ><label for=\"sk-estimator-id-1\" class=\"sk-toggleable__label fitted sk-toggleable__label-arrow fitted\">&nbsp;&nbsp;Pipeline<a class=\"sk-estimator-doc-link fitted\" rel=\"noreferrer\" target=\"_blank\" href=\"https://scikit-learn.org/1.4/modules/generated/sklearn.pipeline.Pipeline.html\">?<span>Documentation for Pipeline</span></a><span class=\"sk-estimator-doc-link fitted\">i<span>Fitted</span></span></label><div class=\"sk-toggleable__content fitted\"><pre>Pipeline(steps=[(&#x27;scaler&#x27;, StandardScaler()),\n",
       "                (&#x27;classifier&#x27;, RandomForestClassifier(max_depth=10))])</pre></div> </div></div><div class=\"sk-serial\"><div class=\"sk-item\"><div class=\"sk-estimator fitted sk-toggleable\"><input class=\"sk-toggleable__control sk-hidden--visually\" id=\"sk-estimator-id-2\" type=\"checkbox\" ><label for=\"sk-estimator-id-2\" class=\"sk-toggleable__label fitted sk-toggleable__label-arrow fitted\">&nbsp;StandardScaler<a class=\"sk-estimator-doc-link fitted\" rel=\"noreferrer\" target=\"_blank\" href=\"https://scikit-learn.org/1.4/modules/generated/sklearn.preprocessing.StandardScaler.html\">?<span>Documentation for StandardScaler</span></a></label><div class=\"sk-toggleable__content fitted\"><pre>StandardScaler()</pre></div> </div></div><div class=\"sk-item\"><div class=\"sk-estimator fitted sk-toggleable\"><input class=\"sk-toggleable__control sk-hidden--visually\" id=\"sk-estimator-id-3\" type=\"checkbox\" ><label for=\"sk-estimator-id-3\" class=\"sk-toggleable__label fitted sk-toggleable__label-arrow fitted\">&nbsp;RandomForestClassifier<a class=\"sk-estimator-doc-link fitted\" rel=\"noreferrer\" target=\"_blank\" href=\"https://scikit-learn.org/1.4/modules/generated/sklearn.ensemble.RandomForestClassifier.html\">?<span>Documentation for RandomForestClassifier</span></a></label><div class=\"sk-toggleable__content fitted\"><pre>RandomForestClassifier(max_depth=10)</pre></div> </div></div></div></div></div></div>"
      ],
      "text/plain": [
       "Pipeline(steps=[('scaler', StandardScaler()),\n",
       "                ('classifier', RandomForestClassifier(max_depth=10))])"
      ]
     },
     "execution_count": 64,
     "metadata": {},
     "output_type": "execute_result"
    }
   ],
   "source": [
    "best_model"
   ]
  },
  {
   "cell_type": "code",
   "execution_count": 65,
   "id": "f765229d-c7b0-4385-b08d-f4c162ae1e82",
   "metadata": {},
   "outputs": [
    {
     "name": "stdout",
     "output_type": "stream",
     "text": [
      "sample predictions usingrandom_forest with prediction accuracy of 0.8\n",
      "      True Values  Predicted Values\n",
      "185             1                 0\n",
      "2715            0                 0\n",
      "3825            0                 0\n",
      "1807            1                 1\n",
      "132             1                 1\n"
     ]
    }
   ],
   "source": [
    "\n",
    "sample_pred = best_model.predict(X_new)\n",
    "accu = accuracy_score(y_new, sample_pred)\n",
    "print(f'sample predictions using{best_model_name} with prediction accuracy of {accu}')\n",
    "comparison_df = pd.DataFrame({\n",
    "        'True Values': y_new,\n",
    "        'Predicted Values': sample_pred\n",
    "        })\n",
    "# Display the first few rows of true vs predicted values\n",
    "print(comparison_df.head())\n",
    "\n",
    "  "
   ]
  },
  {
   "cell_type": "markdown",
   "id": "7d582ba4-9c88-4397-94e1-057c21cdc9ca",
   "metadata": {},
   "source": [
    "## Thank you"
   ]
  }
 ],
 "metadata": {
  "kernelspec": {
   "display_name": "Python 3 (ipykernel)",
   "language": "python",
   "name": "python3"
  },
  "language_info": {
   "codemirror_mode": {
    "name": "ipython",
    "version": 3
   },
   "file_extension": ".py",
   "mimetype": "text/x-python",
   "name": "python",
   "nbconvert_exporter": "python",
   "pygments_lexer": "ipython3",
   "version": "3.12.4"
  }
 },
 "nbformat": 4,
 "nbformat_minor": 5
}
